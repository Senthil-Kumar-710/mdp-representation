{
  "nbformat": 4,
  "nbformat_minor": 0,
  "metadata": {
    "colab": {
      "provenance": []
    },
    "kernelspec": {
      "name": "python3",
      "display_name": "Python 3"
    },
    "language_info": {
      "name": "python"
    }
  },
  "cells": [
    {
      "cell_type": "code",
      "source": [
        "!pip install git+https://github.com/mimoralea/gym-walk#egg=gym-walk"
      ],
      "metadata": {
        "colab": {
          "base_uri": "https://localhost:8080/"
        },
        "id": "pwKvOVSnAxBc",
        "outputId": "3811bf0c-4cec-442a-fc54-ea3320be1cb4"
      },
      "execution_count": 2,
      "outputs": [
        {
          "output_type": "stream",
          "name": "stdout",
          "text": [
            "Collecting gym-walk\n",
            "  Cloning https://github.com/mimoralea/gym-walk to /tmp/pip-install-8l92ctqu/gym-walk_f890bf1d0a754a879236a5bb32b54270\n",
            "  Running command git clone --filter=blob:none --quiet https://github.com/mimoralea/gym-walk /tmp/pip-install-8l92ctqu/gym-walk_f890bf1d0a754a879236a5bb32b54270\n",
            "  Resolved https://github.com/mimoralea/gym-walk to commit 5999016267d6de2f5a63307fb00dfd63de319ac1\n",
            "  Preparing metadata (setup.py) ... \u001b[?25l\u001b[?25hdone\n",
            "Requirement already satisfied: gym in /usr/local/lib/python3.10/dist-packages (from gym-walk) (0.25.2)\n",
            "Requirement already satisfied: numpy>=1.18.0 in /usr/local/lib/python3.10/dist-packages (from gym->gym-walk) (1.25.2)\n",
            "Requirement already satisfied: cloudpickle>=1.2.0 in /usr/local/lib/python3.10/dist-packages (from gym->gym-walk) (2.2.1)\n",
            "Requirement already satisfied: gym-notices>=0.0.4 in /usr/local/lib/python3.10/dist-packages (from gym->gym-walk) (0.0.8)\n",
            "Building wheels for collected packages: gym-walk\n",
            "  Building wheel for gym-walk (setup.py) ... \u001b[?25l\u001b[?25hdone\n",
            "  Created wheel for gym-walk: filename=gym_walk-0.0.2-py3-none-any.whl size=4053 sha256=fd1c4c5ccd88055d5a75d92b38993bfc015106ee31c7a591e32ec8e5c2f84650\n",
            "  Stored in directory: /tmp/pip-ephem-wheel-cache-isppgdmq/wheels/24/fe/c4/0cbc7511d29265bad7e28a09311db3f87f0cafba74af54d530\n",
            "Successfully built gym-walk\n",
            "Installing collected packages: gym-walk\n",
            "Successfully installed gym-walk-0.0.2\n"
          ]
        }
      ]
    },
    {
      "cell_type": "code",
      "execution_count": 4,
      "metadata": {
        "colab": {
          "base_uri": "https://localhost:8080/"
        },
        "id": "Qy1xBLl9AqVA",
        "outputId": "9d623814-e51b-4b68-b791-a68f069919d4"
      },
      "outputs": [
        {
          "output_type": "execute_result",
          "data": {
            "text/plain": [
              "{0: {0: [(1.0, 0, 0.0, True)], 1: [(1.0, 0, 0.0, True)]},\n",
              " 1: {0: [(1.0, 0, 0.0, True)], 1: [(1.0, 2, 1.0, True)]},\n",
              " 2: {0: [(1.0, 2, 0.0, True)], 1: [(1.0, 2, 0.0, True)]}}"
            ]
          },
          "metadata": {},
          "execution_count": 4
        }
      ],
      "source": [
        "import gym\n",
        "import gym_walk\n",
        "#P = gym.make('BanditWalk-v0').env.P\n",
        "# Creating Dictionary\n",
        "# MDP Representation in Python\n",
        "P = {\n",
        "    0:{\n",
        "        0: [(1.0,0,0.0,True)],\n",
        "        1: [(1.0,0,0.0,True)]\n",
        "    },\n",
        "    1:{\n",
        "        0: [(1.0,0,0.0,True)],\n",
        "        1: [(1.0,2,1.0,True)]\n",
        "    },\n",
        "    2:{\n",
        "        0: [(1.0,2,0.0,True)],\n",
        "        1: [(1.0,2,0.0,True)]\n",
        "    }\n",
        "}\n",
        "\n",
        "\n",
        "\n",
        "P"
      ]
    },
    {
      "cell_type": "code",
      "source": [],
      "metadata": {
        "id": "53AVV_pTBCPq"
      },
      "execution_count": null,
      "outputs": []
    }
  ]
}